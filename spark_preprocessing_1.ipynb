{
 "cells": [
  {
   "cell_type": "code",
   "execution_count": 1,
   "id": "25b841c7",
   "metadata": {},
   "outputs": [
    {
     "name": "stdout",
     "output_type": "stream",
     "text": [
      "Requirement already satisfied: pyspark in c:\\users\\pavan\\anaconda3\\lib\\site-packages (3.1.2)\n",
      "Requirement already satisfied: py4j==0.10.9 in c:\\users\\pavan\\anaconda3\\lib\\site-packages (from pyspark) (0.10.9)\n"
     ]
    }
   ],
   "source": [
    "!pip install pyspark"
   ]
  },
  {
   "cell_type": "code",
   "execution_count": 2,
   "id": "af1d3caa",
   "metadata": {},
   "outputs": [],
   "source": [
    "import findspark\n",
    "findspark.init()"
   ]
  },
  {
   "cell_type": "code",
   "execution_count": 3,
   "id": "c5a0276c",
   "metadata": {},
   "outputs": [],
   "source": [
    "from pyspark.sql import SparkSession"
   ]
  },
  {
   "cell_type": "code",
   "execution_count": 4,
   "id": "f10a6f00",
   "metadata": {},
   "outputs": [],
   "source": [
    "spark = SparkSession.builder.appName(\"practice\").getOrCreate()"
   ]
  },
  {
   "cell_type": "code",
   "execution_count": 5,
   "id": "8efc101a",
   "metadata": {},
   "outputs": [
    {
     "data": {
      "text/html": [
       "\n",
       "            <div>\n",
       "                <p><b>SparkSession - in-memory</b></p>\n",
       "                \n",
       "        <div>\n",
       "            <p><b>SparkContext</b></p>\n",
       "\n",
       "            <p><a href=\"http://LAPTOP-AN14TCBG:4040\">Spark UI</a></p>\n",
       "\n",
       "            <dl>\n",
       "              <dt>Version</dt>\n",
       "                <dd><code>v3.0.3</code></dd>\n",
       "              <dt>Master</dt>\n",
       "                <dd><code>local[*]</code></dd>\n",
       "              <dt>AppName</dt>\n",
       "                <dd><code>practice</code></dd>\n",
       "            </dl>\n",
       "        </div>\n",
       "        \n",
       "            </div>\n",
       "        "
      ],
      "text/plain": [
       "<pyspark.sql.session.SparkSession at 0x2650f136b80>"
      ]
     },
     "execution_count": 5,
     "metadata": {},
     "output_type": "execute_result"
    }
   ],
   "source": [
    "spark"
   ]
  },
  {
   "cell_type": "markdown",
   "id": "22c7e04b",
   "metadata": {},
   "source": [
    "## list of content\n",
    "* PySpark Dataframe\n",
    "* Reading The Dataset\n",
    "* Checking the Datatypes of the Column(Schema)\n",
    "* Selecting Columns And Indexing\n",
    "* Check Describe option similar to Pandas\n",
    "* Adding Columns\n",
    "* Dropping columns\n",
    "* Renaming Columns\n",
    "* Various Parameter In Dropping functionalities\n",
    "* Handling Missing values by Mean, MEdian And Mode"
   ]
  },
  {
   "cell_type": "code",
   "execution_count": 6,
   "id": "961c6f38",
   "metadata": {},
   "outputs": [
    {
     "name": "stdout",
     "output_type": "stream",
     "text": [
      "+--------+----+-------------+-------------+----------+---------+-----------+------------+-----+\n",
      "|     _c0| _c1|          _c2|          _c3|       _c4|      _c5|        _c6|         _c7|  _c8|\n",
      "+--------+----+-------------+-------------+----------+---------+-----------+------------+-----+\n",
      "|Car_Name|Year|Selling_Price|Present_Price|Kms_Driven|Fuel_Type|Seller_Type|Transmission|Owner|\n",
      "|    ritz|2014|         3.35|         5.59|     27000|   Petrol|     Dealer|      Manual|    0|\n",
      "|     sx4|2013|         4.75|         9.54|     43000|   Diesel|     Dealer|      Manual|    0|\n",
      "|    ciaz|2017|         7.25|         9.85|      6900|   Petrol|     Dealer|      Manual|    0|\n",
      "| wagon r|2011|         2.85|         4.15|      5200|   Petrol|     Dealer|      Manual|    0|\n",
      "+--------+----+-------------+-------------+----------+---------+-----------+------------+-----+\n",
      "only showing top 5 rows\n",
      "\n"
     ]
    }
   ],
   "source": [
    "#reading a dataset\n",
    "df_spark = spark.read.csv(\"car data.csv\")\n",
    "df_spark.show(5)"
   ]
  },
  {
   "cell_type": "code",
   "execution_count": 7,
   "id": "d1629738",
   "metadata": {},
   "outputs": [
    {
     "name": "stdout",
     "output_type": "stream",
     "text": [
      "+--------+----+-------------+-------------+----------+---------+-----------+------------+-----+\n",
      "|Car_Name|Year|Selling_Price|Present_Price|Kms_Driven|Fuel_Type|Seller_Type|Transmission|Owner|\n",
      "+--------+----+-------------+-------------+----------+---------+-----------+------------+-----+\n",
      "|    ritz|2014|         3.35|         5.59|     27000|   Petrol|     Dealer|      Manual|    0|\n",
      "|     sx4|2013|         4.75|         9.54|     43000|   Diesel|     Dealer|      Manual|    0|\n",
      "|    ciaz|2017|         7.25|         9.85|      6900|   Petrol|     Dealer|      Manual|    0|\n",
      "| wagon r|2011|         2.85|         4.15|      5200|   Petrol|     Dealer|      Manual|    0|\n",
      "|   swift|2014|          4.6|         6.87|     42450|   Diesel|     Dealer|      Manual|    0|\n",
      "+--------+----+-------------+-------------+----------+---------+-----------+------------+-----+\n",
      "only showing top 5 rows\n",
      "\n"
     ]
    }
   ],
   "source": [
    "#for getting actual variable names.\n",
    "df_spark1 = spark.read.option(\"header\",\"true\").csv(\"car data.csv\",inferSchema=True)\n",
    "df_spark1.show(5)"
   ]
  },
  {
   "cell_type": "code",
   "execution_count": 8,
   "id": "518037a8",
   "metadata": {},
   "outputs": [
    {
     "data": {
      "text/plain": [
       "pyspark.sql.dataframe.DataFrame"
      ]
     },
     "execution_count": 8,
     "metadata": {},
     "output_type": "execute_result"
    }
   ],
   "source": [
    "#checking of type\n",
    "type(df_spark1)"
   ]
  },
  {
   "cell_type": "code",
   "execution_count": 9,
   "id": "512ff80b",
   "metadata": {},
   "outputs": [
    {
     "name": "stdout",
     "output_type": "stream",
     "text": [
      "root\n",
      " |-- Car_Name: string (nullable = true)\n",
      " |-- Year: integer (nullable = true)\n",
      " |-- Selling_Price: double (nullable = true)\n",
      " |-- Present_Price: double (nullable = true)\n",
      " |-- Kms_Driven: integer (nullable = true)\n",
      " |-- Fuel_Type: string (nullable = true)\n",
      " |-- Seller_Type: string (nullable = true)\n",
      " |-- Transmission: string (nullable = true)\n",
      " |-- Owner: integer (nullable = true)\n",
      "\n"
     ]
    }
   ],
   "source": [
    "#check the schema\n",
    "df_spark1.printSchema()"
   ]
  },
  {
   "cell_type": "code",
   "execution_count": 10,
   "id": "3ee38e5d",
   "metadata": {},
   "outputs": [
    {
     "data": {
      "text/plain": [
       "['Car_Name',\n",
       " 'Year',\n",
       " 'Selling_Price',\n",
       " 'Present_Price',\n",
       " 'Kms_Driven',\n",
       " 'Fuel_Type',\n",
       " 'Seller_Type',\n",
       " 'Transmission',\n",
       " 'Owner']"
      ]
     },
     "execution_count": 10,
     "metadata": {},
     "output_type": "execute_result"
    }
   ],
   "source": [
    "#check column names\n",
    "df_spark1.columns"
   ]
  },
  {
   "cell_type": "code",
   "execution_count": 11,
   "id": "a4cc5666",
   "metadata": {},
   "outputs": [
    {
     "name": "stdout",
     "output_type": "stream",
     "text": [
      "+----+\n",
      "|Year|\n",
      "+----+\n",
      "|2014|\n",
      "|2013|\n",
      "|2017|\n",
      "|2011|\n",
      "|2014|\n",
      "|2018|\n",
      "|2015|\n",
      "|2015|\n",
      "|2016|\n",
      "|2015|\n",
      "|2017|\n",
      "|2015|\n",
      "|2015|\n",
      "|2015|\n",
      "|2009|\n",
      "|2016|\n",
      "|2015|\n",
      "|2016|\n",
      "|2015|\n",
      "|2010|\n",
      "+----+\n",
      "only showing top 20 rows\n",
      "\n"
     ]
    }
   ],
   "source": [
    "#accessing any column\n",
    "df_spark1.select(\"Year\").show()"
   ]
  },
  {
   "cell_type": "code",
   "execution_count": 13,
   "id": "0a4d0470",
   "metadata": {},
   "outputs": [
    {
     "name": "stdout",
     "output_type": "stream",
     "text": [
      "+----+-------------+\n",
      "|Year|Selling_Price|\n",
      "+----+-------------+\n",
      "|2014|         3.35|\n",
      "|2013|         4.75|\n",
      "|2017|         7.25|\n",
      "|2011|         2.85|\n",
      "|2014|          4.6|\n",
      "|2018|         9.25|\n",
      "|2015|         6.75|\n",
      "|2015|          6.5|\n",
      "|2016|         8.75|\n",
      "|2015|         7.45|\n",
      "|2017|         2.85|\n",
      "|2015|         6.85|\n",
      "|2015|          7.5|\n",
      "|2015|          6.1|\n",
      "|2009|         2.25|\n",
      "|2016|         7.75|\n",
      "|2015|         7.25|\n",
      "|2016|         7.75|\n",
      "|2015|         3.25|\n",
      "|2010|         2.65|\n",
      "+----+-------------+\n",
      "only showing top 20 rows\n",
      "\n"
     ]
    }
   ],
   "source": [
    "##accessing multiple columns\n",
    "df_spark1.select([\"Year\",\"Selling_Price\"]).show()"
   ]
  },
  {
   "cell_type": "code",
   "execution_count": 14,
   "id": "937535e6",
   "metadata": {},
   "outputs": [
    {
     "data": {
      "text/plain": [
       "[('Car_Name', 'string'),\n",
       " ('Year', 'int'),\n",
       " ('Selling_Price', 'double'),\n",
       " ('Present_Price', 'double'),\n",
       " ('Kms_Driven', 'int'),\n",
       " ('Fuel_Type', 'string'),\n",
       " ('Seller_Type', 'string'),\n",
       " ('Transmission', 'string'),\n",
       " ('Owner', 'int')]"
      ]
     },
     "execution_count": 14,
     "metadata": {},
     "output_type": "execute_result"
    }
   ],
   "source": [
    "#checking data types\n",
    "df_spark1.dtypes"
   ]
  },
  {
   "cell_type": "code",
   "execution_count": 15,
   "id": "1b0e1632",
   "metadata": {},
   "outputs": [
    {
     "name": "stdout",
     "output_type": "stream",
     "text": [
      "+-------+--------+------------------+-----------------+-----------------+-----------------+---------+-----------+------------+-------------------+\n",
      "|summary|Car_Name|              Year|    Selling_Price|    Present_Price|       Kms_Driven|Fuel_Type|Seller_Type|Transmission|              Owner|\n",
      "+-------+--------+------------------+-----------------+-----------------+-----------------+---------+-----------+------------+-------------------+\n",
      "|  count|     301|               301|              301|              301|              301|      301|        301|         301|                301|\n",
      "|   mean|   800.0|2013.6279069767443|4.661295681063127|7.628471760797344|36947.20598006644|     null|       null|        null|0.04318936877076412|\n",
      "| stddev|     NaN|2.8915541273367253|5.082811556177805|8.644115402015789|38886.88388206789|     null|       null|        null| 0.2479148926949198|\n",
      "|    min|     800|              2003|              0.1|             0.32|              500|      CNG|     Dealer|   Automatic|                  0|\n",
      "|    max|   xcent|              2018|             35.0|             92.6|           500000|   Petrol| Individual|      Manual|                  3|\n",
      "+-------+--------+------------------+-----------------+-----------------+-----------------+---------+-----------+------------+-------------------+\n",
      "\n"
     ]
    }
   ],
   "source": [
    "# checking describe as in pandas \n",
    "df_spark1.describe().show()"
   ]
  },
  {
   "cell_type": "code",
   "execution_count": 16,
   "id": "e9464c33",
   "metadata": {},
   "outputs": [
    {
     "name": "stdout",
     "output_type": "stream",
     "text": [
      "+-------------+----+-------------+-------------+----------+---------+-----------+------------+-----+------------------+\n",
      "|     Car_Name|Year|Selling_Price|Present_Price|Kms_Driven|Fuel_Type|Seller_Type|Transmission|Owner|   Purchased price|\n",
      "+-------------+----+-------------+-------------+----------+---------+-----------+------------+-----+------------------+\n",
      "|         ritz|2014|         3.35|         5.59|     27000|   Petrol|     Dealer|      Manual|    0|             5.025|\n",
      "|          sx4|2013|         4.75|         9.54|     43000|   Diesel|     Dealer|      Manual|    0|             7.125|\n",
      "|         ciaz|2017|         7.25|         9.85|      6900|   Petrol|     Dealer|      Manual|    0|            10.875|\n",
      "|      wagon r|2011|         2.85|         4.15|      5200|   Petrol|     Dealer|      Manual|    0|             4.275|\n",
      "|        swift|2014|          4.6|         6.87|     42450|   Diesel|     Dealer|      Manual|    0|6.8999999999999995|\n",
      "|vitara brezza|2018|         9.25|         9.83|      2071|   Diesel|     Dealer|      Manual|    0|            13.875|\n",
      "|         ciaz|2015|         6.75|         8.12|     18796|   Petrol|     Dealer|      Manual|    0|            10.125|\n",
      "|      s cross|2015|          6.5|         8.61|     33429|   Diesel|     Dealer|      Manual|    0|              9.75|\n",
      "|         ciaz|2016|         8.75|         8.89|     20273|   Diesel|     Dealer|      Manual|    0|            13.125|\n",
      "|         ciaz|2015|         7.45|         8.92|     42367|   Diesel|     Dealer|      Manual|    0|            11.175|\n",
      "|     alto 800|2017|         2.85|          3.6|      2135|   Petrol|     Dealer|      Manual|    0|             4.275|\n",
      "|         ciaz|2015|         6.85|        10.38|     51000|   Diesel|     Dealer|      Manual|    0|10.274999999999999|\n",
      "|         ciaz|2015|          7.5|         9.94|     15000|   Petrol|     Dealer|   Automatic|    0|             11.25|\n",
      "|       ertiga|2015|          6.1|         7.71|     26000|   Petrol|     Dealer|      Manual|    0| 9.149999999999999|\n",
      "|        dzire|2009|         2.25|         7.21|     77427|   Petrol|     Dealer|      Manual|    0|             3.375|\n",
      "|       ertiga|2016|         7.75|        10.79|     43000|   Diesel|     Dealer|      Manual|    0|            11.625|\n",
      "|       ertiga|2015|         7.25|        10.79|     41678|   Diesel|     Dealer|      Manual|    0|            10.875|\n",
      "|       ertiga|2016|         7.75|        10.79|     43000|   Diesel|     Dealer|      Manual|    0|            11.625|\n",
      "|      wagon r|2015|         3.25|         5.09|     35500|      CNG|     Dealer|      Manual|    0|             4.875|\n",
      "|          sx4|2010|         2.65|         7.98|     41442|   Petrol|     Dealer|      Manual|    0|3.9749999999999996|\n",
      "+-------------+----+-------------+-------------+----------+---------+-----------+------------+-----+------------------+\n",
      "only showing top 20 rows\n",
      "\n"
     ]
    }
   ],
   "source": [
    "#adding new column to the dataframe\n",
    "new_df = df_spark1.withColumn(\"Purchased price\",df_spark1[\"Selling_Price\"]*1.5)\n",
    "new_df.show()"
   ]
  },
  {
   "cell_type": "code",
   "execution_count": null,
   "id": "87a1bc67",
   "metadata": {},
   "outputs": [],
   "source": []
  },
  {
   "cell_type": "code",
   "execution_count": 17,
   "id": "92926da0",
   "metadata": {},
   "outputs": [
    {
     "name": "stdout",
     "output_type": "stream",
     "text": [
      "+-------------+----+-------------+-------------+----------+---------+------------+-----+------------------+\n",
      "|     Car_Name|Year|Selling_Price|Present_Price|Kms_Driven|Fuel_Type|Transmission|Owner|   Purchased price|\n",
      "+-------------+----+-------------+-------------+----------+---------+------------+-----+------------------+\n",
      "|         ritz|2014|         3.35|         5.59|     27000|   Petrol|      Manual|    0|             5.025|\n",
      "|          sx4|2013|         4.75|         9.54|     43000|   Diesel|      Manual|    0|             7.125|\n",
      "|         ciaz|2017|         7.25|         9.85|      6900|   Petrol|      Manual|    0|            10.875|\n",
      "|      wagon r|2011|         2.85|         4.15|      5200|   Petrol|      Manual|    0|             4.275|\n",
      "|        swift|2014|          4.6|         6.87|     42450|   Diesel|      Manual|    0|6.8999999999999995|\n",
      "|vitara brezza|2018|         9.25|         9.83|      2071|   Diesel|      Manual|    0|            13.875|\n",
      "|         ciaz|2015|         6.75|         8.12|     18796|   Petrol|      Manual|    0|            10.125|\n",
      "|      s cross|2015|          6.5|         8.61|     33429|   Diesel|      Manual|    0|              9.75|\n",
      "|         ciaz|2016|         8.75|         8.89|     20273|   Diesel|      Manual|    0|            13.125|\n",
      "|         ciaz|2015|         7.45|         8.92|     42367|   Diesel|      Manual|    0|            11.175|\n",
      "|     alto 800|2017|         2.85|          3.6|      2135|   Petrol|      Manual|    0|             4.275|\n",
      "|         ciaz|2015|         6.85|        10.38|     51000|   Diesel|      Manual|    0|10.274999999999999|\n",
      "|         ciaz|2015|          7.5|         9.94|     15000|   Petrol|   Automatic|    0|             11.25|\n",
      "|       ertiga|2015|          6.1|         7.71|     26000|   Petrol|      Manual|    0| 9.149999999999999|\n",
      "|        dzire|2009|         2.25|         7.21|     77427|   Petrol|      Manual|    0|             3.375|\n",
      "|       ertiga|2016|         7.75|        10.79|     43000|   Diesel|      Manual|    0|            11.625|\n",
      "|       ertiga|2015|         7.25|        10.79|     41678|   Diesel|      Manual|    0|            10.875|\n",
      "|       ertiga|2016|         7.75|        10.79|     43000|   Diesel|      Manual|    0|            11.625|\n",
      "|      wagon r|2015|         3.25|         5.09|     35500|      CNG|      Manual|    0|             4.875|\n",
      "|          sx4|2010|         2.65|         7.98|     41442|   Petrol|      Manual|    0|3.9749999999999996|\n",
      "+-------------+----+-------------+-------------+----------+---------+------------+-----+------------------+\n",
      "only showing top 20 rows\n",
      "\n"
     ]
    }
   ],
   "source": [
    "#droping column\n",
    "new_df = new_df.drop('Seller_Type')\n",
    "new_df.show()"
   ]
  },
  {
   "cell_type": "code",
   "execution_count": null,
   "id": "730a5cd3",
   "metadata": {},
   "outputs": [],
   "source": []
  },
  {
   "cell_type": "code",
   "execution_count": 18,
   "id": "0e33eb54",
   "metadata": {},
   "outputs": [
    {
     "name": "stdout",
     "output_type": "stream",
     "text": [
      "+-------------+----+-------------+-------------+----------+---------+------------+-----+------------------+\n",
      "|   Model_name|Year|Selling_Price|Present_Price|Kms_Driven|Fuel_Type|Transmission|Owner|   Purchased price|\n",
      "+-------------+----+-------------+-------------+----------+---------+------------+-----+------------------+\n",
      "|         ritz|2014|         3.35|         5.59|     27000|   Petrol|      Manual|    0|             5.025|\n",
      "|          sx4|2013|         4.75|         9.54|     43000|   Diesel|      Manual|    0|             7.125|\n",
      "|         ciaz|2017|         7.25|         9.85|      6900|   Petrol|      Manual|    0|            10.875|\n",
      "|      wagon r|2011|         2.85|         4.15|      5200|   Petrol|      Manual|    0|             4.275|\n",
      "|        swift|2014|          4.6|         6.87|     42450|   Diesel|      Manual|    0|6.8999999999999995|\n",
      "|vitara brezza|2018|         9.25|         9.83|      2071|   Diesel|      Manual|    0|            13.875|\n",
      "|         ciaz|2015|         6.75|         8.12|     18796|   Petrol|      Manual|    0|            10.125|\n",
      "|      s cross|2015|          6.5|         8.61|     33429|   Diesel|      Manual|    0|              9.75|\n",
      "|         ciaz|2016|         8.75|         8.89|     20273|   Diesel|      Manual|    0|            13.125|\n",
      "|         ciaz|2015|         7.45|         8.92|     42367|   Diesel|      Manual|    0|            11.175|\n",
      "|     alto 800|2017|         2.85|          3.6|      2135|   Petrol|      Manual|    0|             4.275|\n",
      "|         ciaz|2015|         6.85|        10.38|     51000|   Diesel|      Manual|    0|10.274999999999999|\n",
      "|         ciaz|2015|          7.5|         9.94|     15000|   Petrol|   Automatic|    0|             11.25|\n",
      "|       ertiga|2015|          6.1|         7.71|     26000|   Petrol|      Manual|    0| 9.149999999999999|\n",
      "|        dzire|2009|         2.25|         7.21|     77427|   Petrol|      Manual|    0|             3.375|\n",
      "|       ertiga|2016|         7.75|        10.79|     43000|   Diesel|      Manual|    0|            11.625|\n",
      "|       ertiga|2015|         7.25|        10.79|     41678|   Diesel|      Manual|    0|            10.875|\n",
      "|       ertiga|2016|         7.75|        10.79|     43000|   Diesel|      Manual|    0|            11.625|\n",
      "|      wagon r|2015|         3.25|         5.09|     35500|      CNG|      Manual|    0|             4.875|\n",
      "|          sx4|2010|         2.65|         7.98|     41442|   Petrol|      Manual|    0|3.9749999999999996|\n",
      "+-------------+----+-------------+-------------+----------+---------+------------+-----+------------------+\n",
      "only showing top 20 rows\n",
      "\n"
     ]
    }
   ],
   "source": [
    "#Renaming column\n",
    "new_df = new_df.withColumnRenamed('Car_name','Model_name')\n",
    "new_df.show()"
   ]
  },
  {
   "cell_type": "code",
   "execution_count": 19,
   "id": "fb1b12ed",
   "metadata": {},
   "outputs": [
    {
     "name": "stdout",
     "output_type": "stream",
     "text": [
      "+-------------+----+-------------+-------------+----------+---------+------------+-----+------------------+\n",
      "|   Model_name|Year|Selling_Price|Present_Price|Kms_Driven|Fuel_Type|Transmission|Owner|   Purchased price|\n",
      "+-------------+----+-------------+-------------+----------+---------+------------+-----+------------------+\n",
      "|         ritz|2014|         3.35|         5.59|     27000|   Petrol|      Manual|    0|             5.025|\n",
      "|          sx4|2013|         4.75|         9.54|     43000|   Diesel|      Manual|    0|             7.125|\n",
      "|         ciaz|2017|         7.25|         9.85|      6900|   Petrol|      Manual|    0|            10.875|\n",
      "|      wagon r|2011|         2.85|         4.15|      5200|   Petrol|      Manual|    0|             4.275|\n",
      "|        swift|2014|          4.6|         6.87|     42450|   Diesel|      Manual|    0|6.8999999999999995|\n",
      "|vitara brezza|2018|         9.25|         9.83|      2071|   Diesel|      Manual|    0|            13.875|\n",
      "|         ciaz|2015|         6.75|         8.12|     18796|   Petrol|      Manual|    0|            10.125|\n",
      "|      s cross|2015|          6.5|         8.61|     33429|   Diesel|      Manual|    0|              9.75|\n",
      "|         ciaz|2016|         8.75|         8.89|     20273|   Diesel|      Manual|    0|            13.125|\n",
      "|         ciaz|2015|         7.45|         8.92|     42367|   Diesel|      Manual|    0|            11.175|\n",
      "|     alto 800|2017|         2.85|          3.6|      2135|   Petrol|      Manual|    0|             4.275|\n",
      "|         ciaz|2015|         6.85|        10.38|     51000|   Diesel|      Manual|    0|10.274999999999999|\n",
      "|         ciaz|2015|          7.5|         9.94|     15000|   Petrol|   Automatic|    0|             11.25|\n",
      "|       ertiga|2015|          6.1|         7.71|     26000|   Petrol|      Manual|    0| 9.149999999999999|\n",
      "|        dzire|2009|         2.25|         7.21|     77427|   Petrol|      Manual|    0|             3.375|\n",
      "|       ertiga|2016|         7.75|        10.79|     43000|   Diesel|      Manual|    0|            11.625|\n",
      "|       ertiga|2015|         7.25|        10.79|     41678|   Diesel|      Manual|    0|            10.875|\n",
      "|       ertiga|2016|         7.75|        10.79|     43000|   Diesel|      Manual|    0|            11.625|\n",
      "|      wagon r|2015|         3.25|         5.09|     35500|      CNG|      Manual|    0|             4.875|\n",
      "|          sx4|2010|         2.65|         7.98|     41442|   Petrol|      Manual|    0|3.9749999999999996|\n",
      "+-------------+----+-------------+-------------+----------+---------+------------+-----+------------------+\n",
      "only showing top 20 rows\n",
      "\n"
     ]
    }
   ],
   "source": [
    "#droping null values.\n",
    "\n",
    "new_df.na.drop().show()"
   ]
  },
  {
   "cell_type": "code",
   "execution_count": 20,
   "id": "1f2fb863",
   "metadata": {},
   "outputs": [
    {
     "name": "stdout",
     "output_type": "stream",
     "text": [
      "+-------------+----+-------------+-------------+----------+---------+------------+-----+------------------+\n",
      "|   Model_name|Year|Selling_Price|Present_Price|Kms_Driven|Fuel_Type|Transmission|Owner|   Purchased price|\n",
      "+-------------+----+-------------+-------------+----------+---------+------------+-----+------------------+\n",
      "|         ritz|2014|         3.35|         5.59|     27000|   Petrol|      Manual|    0|             5.025|\n",
      "|          sx4|2013|         4.75|         9.54|     43000|   Diesel|      Manual|    0|             7.125|\n",
      "|         ciaz|2017|         7.25|         9.85|      6900|   Petrol|      Manual|    0|            10.875|\n",
      "|      wagon r|2011|         2.85|         4.15|      5200|   Petrol|      Manual|    0|             4.275|\n",
      "|        swift|2014|          4.6|         6.87|     42450|   Diesel|      Manual|    0|6.8999999999999995|\n",
      "|vitara brezza|2018|         9.25|         9.83|      2071|   Diesel|      Manual|    0|            13.875|\n",
      "|         ciaz|2015|         6.75|         8.12|     18796|   Petrol|      Manual|    0|            10.125|\n",
      "|      s cross|2015|          6.5|         8.61|     33429|   Diesel|      Manual|    0|              9.75|\n",
      "|         ciaz|2016|         8.75|         8.89|     20273|   Diesel|      Manual|    0|            13.125|\n",
      "|         ciaz|2015|         7.45|         8.92|     42367|   Diesel|      Manual|    0|            11.175|\n",
      "|     alto 800|2017|         2.85|          3.6|      2135|   Petrol|      Manual|    0|             4.275|\n",
      "|         ciaz|2015|         6.85|        10.38|     51000|   Diesel|      Manual|    0|10.274999999999999|\n",
      "|         ciaz|2015|          7.5|         9.94|     15000|   Petrol|   Automatic|    0|             11.25|\n",
      "|       ertiga|2015|          6.1|         7.71|     26000|   Petrol|      Manual|    0| 9.149999999999999|\n",
      "|        dzire|2009|         2.25|         7.21|     77427|   Petrol|      Manual|    0|             3.375|\n",
      "|       ertiga|2016|         7.75|        10.79|     43000|   Diesel|      Manual|    0|            11.625|\n",
      "|       ertiga|2015|         7.25|        10.79|     41678|   Diesel|      Manual|    0|            10.875|\n",
      "|       ertiga|2016|         7.75|        10.79|     43000|   Diesel|      Manual|    0|            11.625|\n",
      "|      wagon r|2015|         3.25|         5.09|     35500|      CNG|      Manual|    0|             4.875|\n",
      "|          sx4|2010|         2.65|         7.98|     41442|   Petrol|      Manual|    0|3.9749999999999996|\n",
      "+-------------+----+-------------+-------------+----------+---------+------------+-----+------------------+\n",
      "only showing top 20 rows\n",
      "\n"
     ]
    }
   ],
   "source": [
    "#df_pyspark.na.drop(how=\"\", thresh = ,subset= ).show()\n",
    "### any==how\n",
    "new_df.na.drop(how=\"any\").show()"
   ]
  },
  {
   "cell_type": "code",
   "execution_count": 21,
   "id": "cb73a4bb",
   "metadata": {},
   "outputs": [
    {
     "name": "stdout",
     "output_type": "stream",
     "text": [
      "+-------------+----+-------------+-------------+----------+---------+------------+-----+------------------+\n",
      "|   Model_name|Year|Selling_Price|Present_Price|Kms_Driven|Fuel_Type|Transmission|Owner|   Purchased price|\n",
      "+-------------+----+-------------+-------------+----------+---------+------------+-----+------------------+\n",
      "|         ritz|2014|         3.35|         5.59|     27000|   Petrol|      Manual|    0|             5.025|\n",
      "|          sx4|2013|         4.75|         9.54|     43000|   Diesel|      Manual|    0|             7.125|\n",
      "|         ciaz|2017|         7.25|         9.85|      6900|   Petrol|      Manual|    0|            10.875|\n",
      "|      wagon r|2011|         2.85|         4.15|      5200|   Petrol|      Manual|    0|             4.275|\n",
      "|        swift|2014|          4.6|         6.87|     42450|   Diesel|      Manual|    0|6.8999999999999995|\n",
      "|vitara brezza|2018|         9.25|         9.83|      2071|   Diesel|      Manual|    0|            13.875|\n",
      "|         ciaz|2015|         6.75|         8.12|     18796|   Petrol|      Manual|    0|            10.125|\n",
      "|      s cross|2015|          6.5|         8.61|     33429|   Diesel|      Manual|    0|              9.75|\n",
      "|         ciaz|2016|         8.75|         8.89|     20273|   Diesel|      Manual|    0|            13.125|\n",
      "|         ciaz|2015|         7.45|         8.92|     42367|   Diesel|      Manual|    0|            11.175|\n",
      "|     alto 800|2017|         2.85|          3.6|      2135|   Petrol|      Manual|    0|             4.275|\n",
      "|         ciaz|2015|         6.85|        10.38|     51000|   Diesel|      Manual|    0|10.274999999999999|\n",
      "|         ciaz|2015|          7.5|         9.94|     15000|   Petrol|   Automatic|    0|             11.25|\n",
      "|       ertiga|2015|          6.1|         7.71|     26000|   Petrol|      Manual|    0| 9.149999999999999|\n",
      "|        dzire|2009|         2.25|         7.21|     77427|   Petrol|      Manual|    0|             3.375|\n",
      "|       ertiga|2016|         7.75|        10.79|     43000|   Diesel|      Manual|    0|            11.625|\n",
      "|       ertiga|2015|         7.25|        10.79|     41678|   Diesel|      Manual|    0|            10.875|\n",
      "|       ertiga|2016|         7.75|        10.79|     43000|   Diesel|      Manual|    0|            11.625|\n",
      "|      wagon r|2015|         3.25|         5.09|     35500|      CNG|      Manual|    0|             4.875|\n",
      "|          sx4|2010|         2.65|         7.98|     41442|   Petrol|      Manual|    0|3.9749999999999996|\n",
      "+-------------+----+-------------+-------------+----------+---------+------------+-----+------------------+\n",
      "only showing top 20 rows\n",
      "\n"
     ]
    }
   ],
   "source": [
    "##threshold\n",
    "new_df.na.drop(how=\"any\",thresh=3).show()"
   ]
  },
  {
   "cell_type": "code",
   "execution_count": 22,
   "id": "ab6a784c",
   "metadata": {},
   "outputs": [
    {
     "name": "stdout",
     "output_type": "stream",
     "text": [
      "+-------------+----+-------------+-------------+----------+---------+------------+-----+------------------+\n",
      "|   Model_name|Year|Selling_Price|Present_Price|Kms_Driven|Fuel_Type|Transmission|Owner|   Purchased price|\n",
      "+-------------+----+-------------+-------------+----------+---------+------------+-----+------------------+\n",
      "|         ritz|2014|         3.35|         5.59|     27000|   Petrol|      Manual|    0|             5.025|\n",
      "|          sx4|2013|         4.75|         9.54|     43000|   Diesel|      Manual|    0|             7.125|\n",
      "|         ciaz|2017|         7.25|         9.85|      6900|   Petrol|      Manual|    0|            10.875|\n",
      "|      wagon r|2011|         2.85|         4.15|      5200|   Petrol|      Manual|    0|             4.275|\n",
      "|        swift|2014|          4.6|         6.87|     42450|   Diesel|      Manual|    0|6.8999999999999995|\n",
      "|vitara brezza|2018|         9.25|         9.83|      2071|   Diesel|      Manual|    0|            13.875|\n",
      "|         ciaz|2015|         6.75|         8.12|     18796|   Petrol|      Manual|    0|            10.125|\n",
      "|      s cross|2015|          6.5|         8.61|     33429|   Diesel|      Manual|    0|              9.75|\n",
      "|         ciaz|2016|         8.75|         8.89|     20273|   Diesel|      Manual|    0|            13.125|\n",
      "|         ciaz|2015|         7.45|         8.92|     42367|   Diesel|      Manual|    0|            11.175|\n",
      "|     alto 800|2017|         2.85|          3.6|      2135|   Petrol|      Manual|    0|             4.275|\n",
      "|         ciaz|2015|         6.85|        10.38|     51000|   Diesel|      Manual|    0|10.274999999999999|\n",
      "|         ciaz|2015|          7.5|         9.94|     15000|   Petrol|   Automatic|    0|             11.25|\n",
      "|       ertiga|2015|          6.1|         7.71|     26000|   Petrol|      Manual|    0| 9.149999999999999|\n",
      "|        dzire|2009|         2.25|         7.21|     77427|   Petrol|      Manual|    0|             3.375|\n",
      "|       ertiga|2016|         7.75|        10.79|     43000|   Diesel|      Manual|    0|            11.625|\n",
      "|       ertiga|2015|         7.25|        10.79|     41678|   Diesel|      Manual|    0|            10.875|\n",
      "|       ertiga|2016|         7.75|        10.79|     43000|   Diesel|      Manual|    0|            11.625|\n",
      "|      wagon r|2015|         3.25|         5.09|     35500|      CNG|      Manual|    0|             4.875|\n",
      "|          sx4|2010|         2.65|         7.98|     41442|   Petrol|      Manual|    0|3.9749999999999996|\n",
      "+-------------+----+-------------+-------------+----------+---------+------------+-----+------------------+\n",
      "only showing top 20 rows\n",
      "\n"
     ]
    }
   ],
   "source": [
    "##Subset\n",
    "new_df.na.drop(how=\"any\",subset=['Year']).show()"
   ]
  },
  {
   "cell_type": "code",
   "execution_count": 23,
   "id": "bc30fd4d",
   "metadata": {},
   "outputs": [
    {
     "data": {
      "text/plain": [
       "0.02918709067429123"
      ]
     },
     "execution_count": 23,
     "metadata": {},
     "output_type": "execute_result"
    }
   ],
   "source": [
    "new_df.corr(\"Selling_Price\",\"Kms_Driven\")"
   ]
  },
  {
   "cell_type": "code",
   "execution_count": null,
   "id": "c3b43cfc",
   "metadata": {},
   "outputs": [],
   "source": []
  }
 ],
 "metadata": {
  "kernelspec": {
   "display_name": "Python 3",
   "language": "python",
   "name": "python3"
  },
  "language_info": {
   "codemirror_mode": {
    "name": "ipython",
    "version": 3
   },
   "file_extension": ".py",
   "mimetype": "text/x-python",
   "name": "python",
   "nbconvert_exporter": "python",
   "pygments_lexer": "ipython3",
   "version": "3.8.8"
  }
 },
 "nbformat": 4,
 "nbformat_minor": 5
}
