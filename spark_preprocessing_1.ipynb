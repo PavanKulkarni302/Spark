{
 "cells": [
  {
   "cell_type": "code",
   "execution_count": 1,
   "id": "25b841c7",
   "metadata": {},
   "outputs": [
    {
     "name": "stdout",
     "output_type": "stream",
     "text": [
      "Requirement already satisfied: pyspark in c:\\users\\pavan\\anaconda3\\lib\\site-packages (3.1.2)\n",
      "Requirement already satisfied: py4j==0.10.9 in c:\\users\\pavan\\anaconda3\\lib\\site-packages (from pyspark) (0.10.9)\n"
     ]
    }
   ],
   "source": [
    "!pip install pyspark"
   ]
  },
  {
   "cell_type": "code",
   "execution_count": 2,
   "id": "af1d3caa",
   "metadata": {},
   "outputs": [],
   "source": [
    "import findspark\n",
    "findspark.init()"
   ]
  },
  {
   "cell_type": "code",
   "execution_count": 3,
   "id": "c5a0276c",
   "metadata": {},
   "outputs": [],
   "source": [
    "from pyspark.sql import SparkSession"
   ]
  },
  {
   "cell_type": "code",
   "execution_count": 4,
   "id": "f10a6f00",
   "metadata": {},
   "outputs": [],
   "source": [
    "spark = SparkSession.builder.appName(\"practice\").getOrCreate()"
   ]
  },
  {
   "cell_type": "code",
   "execution_count": 5,
   "id": "8efc101a",
   "metadata": {},
   "outputs": [
    {
     "data": {
      "text/html": [
       "\n",
       "            <div>\n",
       "                <p><b>SparkSession - in-memory</b></p>\n",
       "                \n",
       "        <div>\n",
       "            <p><b>SparkContext</b></p>\n",
       "\n",
       "            <p><a href=\"http://LAPTOP-AN14TCBG:4040\">Spark UI</a></p>\n",
       "\n",
       "            <dl>\n",
       "              <dt>Version</dt>\n",
       "                <dd><code>v3.0.3</code></dd>\n",
       "              <dt>Master</dt>\n",
       "                <dd><code>local[*]</code></dd>\n",
       "              <dt>AppName</dt>\n",
       "                <dd><code>practice</code></dd>\n",
       "            </dl>\n",
       "        </div>\n",
       "        \n",
       "            </div>\n",
       "        "
      ],
      "text/plain": [
       "<pyspark.sql.session.SparkSession at 0x21c64e68160>"
      ]
     },
     "execution_count": 5,
     "metadata": {},
     "output_type": "execute_result"
    }
   ],
   "source": [
    "spark"
   ]
  },
  {
   "cell_type": "markdown",
   "id": "22c7e04b",
   "metadata": {},
   "source": [
    "## list of content\n",
    "* PySpark Dataframe\n",
    "* Reading The Dataset\n",
    "* Checking the Datatypes of the Column(Schema)\n",
    "* Selecting Columns And Indexing\n",
    "* Check Describe option similar to Pandas\n",
    "* Adding Columns\n",
    "* Dropping columns\n",
    "* Renaming Columns\n",
    "* Various Parameter In Dropping functionalities\n",
    "* Handling Missing values by Mean, MEdian And Mode"
   ]
  },
  {
   "cell_type": "code",
   "execution_count": 6,
   "id": "961c6f38",
   "metadata": {},
   "outputs": [
    {
     "name": "stdout",
     "output_type": "stream",
     "text": [
      "+-------------+----+-------------+-------------+----------+---------+-----------+------------+-----+\n",
      "|          _c0| _c1|          _c2|          _c3|       _c4|      _c5|        _c6|         _c7|  _c8|\n",
      "+-------------+----+-------------+-------------+----------+---------+-----------+------------+-----+\n",
      "|     Car_Name|Year|Selling_Price|Present_Price|Kms_Driven|Fuel_Type|Seller_Type|Transmission|Owner|\n",
      "|         ritz|2014|         3.35|         5.59|      null|   Petrol|     Dealer|      Manual|    0|\n",
      "|          sx4|2013|         4.75|         9.54|     43000|   Diesel|     Dealer|      Manual|    0|\n",
      "|         ciaz|2017|         7.25|         null|      6900|   Petrol|     Dealer|      Manual|    0|\n",
      "|      wagon r|2011|         2.85|         4.15|      5200|   Petrol|     Dealer|      Manual|    0|\n",
      "|        swift|2014|          4.6|         6.87|     42450|   Diesel|     Dealer|      Manual|    0|\n",
      "|vitara brezza|2018|         null|         9.83|      2071|   Diesel|     Dealer|      Manual|    0|\n",
      "|         ciaz|2015|         6.75|         8.12|     18796|   Petrol|     Dealer|      Manual|    0|\n",
      "|      s cross|2015|          6.5|         8.61|      null|   Diesel|     Dealer|      Manual|    0|\n",
      "|         ciaz|2016|         8.75|         8.89|     20273|   Diesel|     Dealer|      Manual|    0|\n",
      "|         ciaz|2015|         null|         8.92|     42367|   Diesel|     Dealer|      Manual|    0|\n",
      "|     alto 800|2017|         2.85|          3.6|      2135|   Petrol|     Dealer|      Manual|    0|\n",
      "|         ciaz|2015|         6.85|        10.38|      null|   Diesel|     Dealer|      Manual|    0|\n",
      "|         ciaz|2015|         null|         9.94|     15000|   Petrol|     Dealer|   Automatic|    0|\n",
      "|       ertiga|2015|          6.1|         7.71|     26000|   Petrol|     Dealer|      Manual|    0|\n",
      "|        dzire|2009|         2.25|         7.21|     77427|   Petrol|     Dealer|      Manual|    0|\n",
      "|       ertiga|2016|         7.75|        10.79|     43000|   Diesel|     Dealer|      Manual|    0|\n",
      "|       ertiga|2015|         7.25|        10.79|     41678|   Diesel|     Dealer|      Manual|    0|\n",
      "|       ertiga|2016|         7.75|         null|     43000|   Diesel|     Dealer|      Manual|    0|\n",
      "|      wagon r|2015|         3.25|         5.09|     35500|      CNG|     Dealer|      Manual|    0|\n",
      "+-------------+----+-------------+-------------+----------+---------+-----------+------------+-----+\n",
      "only showing top 20 rows\n",
      "\n"
     ]
    }
   ],
   "source": [
    "#reading a dataset\n",
    "df_spark = spark.read.csv(\"car data.csv\")\n",
    "df_spark.show()"
   ]
  },
  {
   "cell_type": "code",
   "execution_count": 7,
   "id": "d1629738",
   "metadata": {},
   "outputs": [
    {
     "name": "stdout",
     "output_type": "stream",
     "text": [
      "+-------------+----+-------------+-------------+----------+---------+-----------+------------+-----+\n",
      "|     Car_Name|Year|Selling_Price|Present_Price|Kms_Driven|Fuel_Type|Seller_Type|Transmission|Owner|\n",
      "+-------------+----+-------------+-------------+----------+---------+-----------+------------+-----+\n",
      "|         ritz|2014|         3.35|         5.59|      null|   Petrol|     Dealer|      Manual|    0|\n",
      "|          sx4|2013|         4.75|         9.54|     43000|   Diesel|     Dealer|      Manual|    0|\n",
      "|         ciaz|2017|         7.25|         null|      6900|   Petrol|     Dealer|      Manual|    0|\n",
      "|      wagon r|2011|         2.85|         4.15|      5200|   Petrol|     Dealer|      Manual|    0|\n",
      "|        swift|2014|          4.6|         6.87|     42450|   Diesel|     Dealer|      Manual|    0|\n",
      "|vitara brezza|2018|         null|         9.83|      2071|   Diesel|     Dealer|      Manual|    0|\n",
      "|         ciaz|2015|         6.75|         8.12|     18796|   Petrol|     Dealer|      Manual|    0|\n",
      "|      s cross|2015|          6.5|         8.61|      null|   Diesel|     Dealer|      Manual|    0|\n",
      "|         ciaz|2016|         8.75|         8.89|     20273|   Diesel|     Dealer|      Manual|    0|\n",
      "|         ciaz|2015|         null|         8.92|     42367|   Diesel|     Dealer|      Manual|    0|\n",
      "|     alto 800|2017|         2.85|          3.6|      2135|   Petrol|     Dealer|      Manual|    0|\n",
      "|         ciaz|2015|         6.85|        10.38|      null|   Diesel|     Dealer|      Manual|    0|\n",
      "|         ciaz|2015|         null|         9.94|     15000|   Petrol|     Dealer|   Automatic|    0|\n",
      "|       ertiga|2015|          6.1|         7.71|     26000|   Petrol|     Dealer|      Manual|    0|\n",
      "|        dzire|2009|         2.25|         7.21|     77427|   Petrol|     Dealer|      Manual|    0|\n",
      "|       ertiga|2016|         7.75|        10.79|     43000|   Diesel|     Dealer|      Manual|    0|\n",
      "|       ertiga|2015|         7.25|        10.79|     41678|   Diesel|     Dealer|      Manual|    0|\n",
      "|       ertiga|2016|         7.75|         null|     43000|   Diesel|     Dealer|      Manual|    0|\n",
      "|      wagon r|2015|         3.25|         5.09|     35500|      CNG|     Dealer|      Manual|    0|\n",
      "|          sx4|2010|         2.65|         7.98|     41442|   Petrol|     Dealer|      Manual|    0|\n",
      "+-------------+----+-------------+-------------+----------+---------+-----------+------------+-----+\n",
      "only showing top 20 rows\n",
      "\n"
     ]
    }
   ],
   "source": [
    "#for getting actual variable names.\n",
    "df_spark1 = spark.read.option(\"header\",\"true\").csv(\"car data.csv\",inferSchema=True)\n",
    "df_spark1.show()"
   ]
  },
  {
   "cell_type": "code",
   "execution_count": 8,
   "id": "518037a8",
   "metadata": {},
   "outputs": [
    {
     "data": {
      "text/plain": [
       "pyspark.sql.dataframe.DataFrame"
      ]
     },
     "execution_count": 8,
     "metadata": {},
     "output_type": "execute_result"
    }
   ],
   "source": [
    "#checking of type\n",
    "type(df_spark1)"
   ]
  },
  {
   "cell_type": "code",
   "execution_count": 9,
   "id": "512ff80b",
   "metadata": {},
   "outputs": [
    {
     "name": "stdout",
     "output_type": "stream",
     "text": [
      "root\n",
      " |-- Car_Name: string (nullable = true)\n",
      " |-- Year: integer (nullable = true)\n",
      " |-- Selling_Price: double (nullable = true)\n",
      " |-- Present_Price: double (nullable = true)\n",
      " |-- Kms_Driven: integer (nullable = true)\n",
      " |-- Fuel_Type: string (nullable = true)\n",
      " |-- Seller_Type: string (nullable = true)\n",
      " |-- Transmission: string (nullable = true)\n",
      " |-- Owner: integer (nullable = true)\n",
      "\n"
     ]
    }
   ],
   "source": [
    "#check the schema\n",
    "df_spark1.printSchema()"
   ]
  },
  {
   "cell_type": "code",
   "execution_count": 10,
   "id": "797d23cc",
   "metadata": {},
   "outputs": [
    {
     "name": "stdout",
     "output_type": "stream",
     "text": [
      "+--------+----+-------------+-------------+----------+---------+-----------+------------+-----+\n",
      "|Car_Name|Year|Selling_Price|Present_Price|Kms_Driven|Fuel_Type|Seller_Type|Transmission|Owner|\n",
      "+--------+----+-------------+-------------+----------+---------+-----------+------------+-----+\n",
      "|       0|   0|            3|            2|         3|        0|          0|           0|    0|\n",
      "+--------+----+-------------+-------------+----------+---------+-----------+------------+-----+\n",
      "\n"
     ]
    }
   ],
   "source": [
    "### Get count of null values\n",
    "from pyspark.sql.functions import isnan, when, count, col\n",
    "\n",
    "df_spark1.select([count(when(isnan(c) | col(c).isNull(), c)).alias(c) for c in df_spark1.columns]).show()"
   ]
  },
  {
   "cell_type": "code",
   "execution_count": 11,
   "id": "3ee38e5d",
   "metadata": {},
   "outputs": [
    {
     "data": {
      "text/plain": [
       "['Car_Name',\n",
       " 'Year',\n",
       " 'Selling_Price',\n",
       " 'Present_Price',\n",
       " 'Kms_Driven',\n",
       " 'Fuel_Type',\n",
       " 'Seller_Type',\n",
       " 'Transmission',\n",
       " 'Owner']"
      ]
     },
     "execution_count": 11,
     "metadata": {},
     "output_type": "execute_result"
    }
   ],
   "source": [
    "#check column names\n",
    "df_spark1.columns"
   ]
  },
  {
   "cell_type": "code",
   "execution_count": 12,
   "id": "a4cc5666",
   "metadata": {},
   "outputs": [
    {
     "name": "stdout",
     "output_type": "stream",
     "text": [
      "+----+\n",
      "|Year|\n",
      "+----+\n",
      "|2014|\n",
      "|2013|\n",
      "|2017|\n",
      "|2011|\n",
      "|2014|\n",
      "|2018|\n",
      "|2015|\n",
      "|2015|\n",
      "|2016|\n",
      "|2015|\n",
      "|2017|\n",
      "|2015|\n",
      "|2015|\n",
      "|2015|\n",
      "|2009|\n",
      "|2016|\n",
      "|2015|\n",
      "|2016|\n",
      "|2015|\n",
      "|2010|\n",
      "+----+\n",
      "only showing top 20 rows\n",
      "\n"
     ]
    }
   ],
   "source": [
    "#accessing any column\n",
    "df_spark1.select(\"Year\").show()"
   ]
  },
  {
   "cell_type": "code",
   "execution_count": 13,
   "id": "0a4d0470",
   "metadata": {},
   "outputs": [
    {
     "name": "stdout",
     "output_type": "stream",
     "text": [
      "+----+-------------+\n",
      "|Year|Selling_Price|\n",
      "+----+-------------+\n",
      "|2014|         3.35|\n",
      "|2013|         4.75|\n",
      "|2017|         7.25|\n",
      "|2011|         2.85|\n",
      "|2014|          4.6|\n",
      "|2018|         null|\n",
      "|2015|         6.75|\n",
      "|2015|          6.5|\n",
      "|2016|         8.75|\n",
      "|2015|         null|\n",
      "|2017|         2.85|\n",
      "|2015|         6.85|\n",
      "|2015|         null|\n",
      "|2015|          6.1|\n",
      "|2009|         2.25|\n",
      "|2016|         7.75|\n",
      "|2015|         7.25|\n",
      "|2016|         7.75|\n",
      "|2015|         3.25|\n",
      "|2010|         2.65|\n",
      "+----+-------------+\n",
      "only showing top 20 rows\n",
      "\n"
     ]
    }
   ],
   "source": [
    "##accessing multiple columns\n",
    "df_spark1.select([\"Year\",\"Selling_Price\"]).show()"
   ]
  },
  {
   "cell_type": "code",
   "execution_count": 14,
   "id": "937535e6",
   "metadata": {},
   "outputs": [
    {
     "data": {
      "text/plain": [
       "[('Car_Name', 'string'),\n",
       " ('Year', 'int'),\n",
       " ('Selling_Price', 'double'),\n",
       " ('Present_Price', 'double'),\n",
       " ('Kms_Driven', 'int'),\n",
       " ('Fuel_Type', 'string'),\n",
       " ('Seller_Type', 'string'),\n",
       " ('Transmission', 'string'),\n",
       " ('Owner', 'int')]"
      ]
     },
     "execution_count": 14,
     "metadata": {},
     "output_type": "execute_result"
    }
   ],
   "source": [
    "#checking data types\n",
    "df_spark1.dtypes"
   ]
  },
  {
   "cell_type": "code",
   "execution_count": 15,
   "id": "1b0e1632",
   "metadata": {},
   "outputs": [
    {
     "name": "stdout",
     "output_type": "stream",
     "text": [
      "+-------+--------+------------------+-----------------+-----------------+-----------------+---------+-----------+------------+-------------------+\n",
      "|summary|Car_Name|              Year|    Selling_Price|    Present_Price|       Kms_Driven|Fuel_Type|Seller_Type|Transmission|              Owner|\n",
      "+-------+--------+------------------+-----------------+-----------------+-----------------+---------+-----------+------------+-------------------+\n",
      "|  count|     301|               301|              298|              299|              298|      301|        301|         301|                301|\n",
      "|   mean|   800.0|2013.6279069767443|4.627013422818796|7.610468227424751|36945.23489932886|     null|       null|        null|0.04318936877076412|\n",
      "| stddev|     NaN|2.8915541273367253|5.096129924616662| 8.67016638299903|39069.48461583102|     null|       null|        null| 0.2479148926949198|\n",
      "|    min|     800|              2003|              0.1|             0.32|              500|      CNG|     Dealer|   Automatic|                  0|\n",
      "|    max|   xcent|              2018|             35.0|             92.6|           500000|   Petrol| Individual|      Manual|                  3|\n",
      "+-------+--------+------------------+-----------------+-----------------+-----------------+---------+-----------+------------+-------------------+\n",
      "\n"
     ]
    }
   ],
   "source": [
    "# checking describe as in pandas \n",
    "df_spark1.describe().show()"
   ]
  },
  {
   "cell_type": "code",
   "execution_count": 16,
   "id": "e9464c33",
   "metadata": {},
   "outputs": [
    {
     "name": "stdout",
     "output_type": "stream",
     "text": [
      "+-------------+----+-------------+-------------+----------+---------+-----------+------------+-----+------------------+\n",
      "|     Car_Name|Year|Selling_Price|Present_Price|Kms_Driven|Fuel_Type|Seller_Type|Transmission|Owner|   Purchased price|\n",
      "+-------------+----+-------------+-------------+----------+---------+-----------+------------+-----+------------------+\n",
      "|         ritz|2014|         3.35|         5.59|      null|   Petrol|     Dealer|      Manual|    0|             5.025|\n",
      "|          sx4|2013|         4.75|         9.54|     43000|   Diesel|     Dealer|      Manual|    0|             7.125|\n",
      "|         ciaz|2017|         7.25|         null|      6900|   Petrol|     Dealer|      Manual|    0|            10.875|\n",
      "|      wagon r|2011|         2.85|         4.15|      5200|   Petrol|     Dealer|      Manual|    0|             4.275|\n",
      "|        swift|2014|          4.6|         6.87|     42450|   Diesel|     Dealer|      Manual|    0|6.8999999999999995|\n",
      "|vitara brezza|2018|         null|         9.83|      2071|   Diesel|     Dealer|      Manual|    0|              null|\n",
      "|         ciaz|2015|         6.75|         8.12|     18796|   Petrol|     Dealer|      Manual|    0|            10.125|\n",
      "|      s cross|2015|          6.5|         8.61|      null|   Diesel|     Dealer|      Manual|    0|              9.75|\n",
      "|         ciaz|2016|         8.75|         8.89|     20273|   Diesel|     Dealer|      Manual|    0|            13.125|\n",
      "|         ciaz|2015|         null|         8.92|     42367|   Diesel|     Dealer|      Manual|    0|              null|\n",
      "|     alto 800|2017|         2.85|          3.6|      2135|   Petrol|     Dealer|      Manual|    0|             4.275|\n",
      "|         ciaz|2015|         6.85|        10.38|      null|   Diesel|     Dealer|      Manual|    0|10.274999999999999|\n",
      "|         ciaz|2015|         null|         9.94|     15000|   Petrol|     Dealer|   Automatic|    0|              null|\n",
      "|       ertiga|2015|          6.1|         7.71|     26000|   Petrol|     Dealer|      Manual|    0| 9.149999999999999|\n",
      "|        dzire|2009|         2.25|         7.21|     77427|   Petrol|     Dealer|      Manual|    0|             3.375|\n",
      "|       ertiga|2016|         7.75|        10.79|     43000|   Diesel|     Dealer|      Manual|    0|            11.625|\n",
      "|       ertiga|2015|         7.25|        10.79|     41678|   Diesel|     Dealer|      Manual|    0|            10.875|\n",
      "|       ertiga|2016|         7.75|         null|     43000|   Diesel|     Dealer|      Manual|    0|            11.625|\n",
      "|      wagon r|2015|         3.25|         5.09|     35500|      CNG|     Dealer|      Manual|    0|             4.875|\n",
      "|          sx4|2010|         2.65|         7.98|     41442|   Petrol|     Dealer|      Manual|    0|3.9749999999999996|\n",
      "+-------------+----+-------------+-------------+----------+---------+-----------+------------+-----+------------------+\n",
      "only showing top 20 rows\n",
      "\n"
     ]
    }
   ],
   "source": [
    "#adding new column to the dataframe\n",
    "new_df = df_spark1.withColumn(\"Purchased price\",df_spark1[\"Selling_Price\"]*1.5)\n",
    "new_df.show()"
   ]
  },
  {
   "cell_type": "code",
   "execution_count": null,
   "id": "87a1bc67",
   "metadata": {},
   "outputs": [],
   "source": []
  },
  {
   "cell_type": "code",
   "execution_count": 17,
   "id": "92926da0",
   "metadata": {},
   "outputs": [
    {
     "name": "stdout",
     "output_type": "stream",
     "text": [
      "+-------------+----+-------------+-------------+----------+---------+------------+-----+------------------+\n",
      "|     Car_Name|Year|Selling_Price|Present_Price|Kms_Driven|Fuel_Type|Transmission|Owner|   Purchased price|\n",
      "+-------------+----+-------------+-------------+----------+---------+------------+-----+------------------+\n",
      "|         ritz|2014|         3.35|         5.59|      null|   Petrol|      Manual|    0|             5.025|\n",
      "|          sx4|2013|         4.75|         9.54|     43000|   Diesel|      Manual|    0|             7.125|\n",
      "|         ciaz|2017|         7.25|         null|      6900|   Petrol|      Manual|    0|            10.875|\n",
      "|      wagon r|2011|         2.85|         4.15|      5200|   Petrol|      Manual|    0|             4.275|\n",
      "|        swift|2014|          4.6|         6.87|     42450|   Diesel|      Manual|    0|6.8999999999999995|\n",
      "|vitara brezza|2018|         null|         9.83|      2071|   Diesel|      Manual|    0|              null|\n",
      "|         ciaz|2015|         6.75|         8.12|     18796|   Petrol|      Manual|    0|            10.125|\n",
      "|      s cross|2015|          6.5|         8.61|      null|   Diesel|      Manual|    0|              9.75|\n",
      "|         ciaz|2016|         8.75|         8.89|     20273|   Diesel|      Manual|    0|            13.125|\n",
      "|         ciaz|2015|         null|         8.92|     42367|   Diesel|      Manual|    0|              null|\n",
      "|     alto 800|2017|         2.85|          3.6|      2135|   Petrol|      Manual|    0|             4.275|\n",
      "|         ciaz|2015|         6.85|        10.38|      null|   Diesel|      Manual|    0|10.274999999999999|\n",
      "|         ciaz|2015|         null|         9.94|     15000|   Petrol|   Automatic|    0|              null|\n",
      "|       ertiga|2015|          6.1|         7.71|     26000|   Petrol|      Manual|    0| 9.149999999999999|\n",
      "|        dzire|2009|         2.25|         7.21|     77427|   Petrol|      Manual|    0|             3.375|\n",
      "|       ertiga|2016|         7.75|        10.79|     43000|   Diesel|      Manual|    0|            11.625|\n",
      "|       ertiga|2015|         7.25|        10.79|     41678|   Diesel|      Manual|    0|            10.875|\n",
      "|       ertiga|2016|         7.75|         null|     43000|   Diesel|      Manual|    0|            11.625|\n",
      "|      wagon r|2015|         3.25|         5.09|     35500|      CNG|      Manual|    0|             4.875|\n",
      "|          sx4|2010|         2.65|         7.98|     41442|   Petrol|      Manual|    0|3.9749999999999996|\n",
      "+-------------+----+-------------+-------------+----------+---------+------------+-----+------------------+\n",
      "only showing top 20 rows\n",
      "\n"
     ]
    }
   ],
   "source": [
    "#droping column\n",
    "new_df = new_df.drop('Seller_Type')\n",
    "new_df.show()"
   ]
  },
  {
   "cell_type": "code",
   "execution_count": null,
   "id": "730a5cd3",
   "metadata": {},
   "outputs": [],
   "source": []
  },
  {
   "cell_type": "code",
   "execution_count": 18,
   "id": "0e33eb54",
   "metadata": {},
   "outputs": [
    {
     "name": "stdout",
     "output_type": "stream",
     "text": [
      "+-------------+----+-------------+-------------+----------+---------+------------+-----+------------------+\n",
      "|   Model_name|Year|Selling_Price|Present_Price|Kms_Driven|Fuel_Type|Transmission|Owner|   Purchased price|\n",
      "+-------------+----+-------------+-------------+----------+---------+------------+-----+------------------+\n",
      "|         ritz|2014|         3.35|         5.59|      null|   Petrol|      Manual|    0|             5.025|\n",
      "|          sx4|2013|         4.75|         9.54|     43000|   Diesel|      Manual|    0|             7.125|\n",
      "|         ciaz|2017|         7.25|         null|      6900|   Petrol|      Manual|    0|            10.875|\n",
      "|      wagon r|2011|         2.85|         4.15|      5200|   Petrol|      Manual|    0|             4.275|\n",
      "|        swift|2014|          4.6|         6.87|     42450|   Diesel|      Manual|    0|6.8999999999999995|\n",
      "|vitara brezza|2018|         null|         9.83|      2071|   Diesel|      Manual|    0|              null|\n",
      "|         ciaz|2015|         6.75|         8.12|     18796|   Petrol|      Manual|    0|            10.125|\n",
      "|      s cross|2015|          6.5|         8.61|      null|   Diesel|      Manual|    0|              9.75|\n",
      "|         ciaz|2016|         8.75|         8.89|     20273|   Diesel|      Manual|    0|            13.125|\n",
      "|         ciaz|2015|         null|         8.92|     42367|   Diesel|      Manual|    0|              null|\n",
      "|     alto 800|2017|         2.85|          3.6|      2135|   Petrol|      Manual|    0|             4.275|\n",
      "|         ciaz|2015|         6.85|        10.38|      null|   Diesel|      Manual|    0|10.274999999999999|\n",
      "|         ciaz|2015|         null|         9.94|     15000|   Petrol|   Automatic|    0|              null|\n",
      "|       ertiga|2015|          6.1|         7.71|     26000|   Petrol|      Manual|    0| 9.149999999999999|\n",
      "|        dzire|2009|         2.25|         7.21|     77427|   Petrol|      Manual|    0|             3.375|\n",
      "|       ertiga|2016|         7.75|        10.79|     43000|   Diesel|      Manual|    0|            11.625|\n",
      "|       ertiga|2015|         7.25|        10.79|     41678|   Diesel|      Manual|    0|            10.875|\n",
      "|       ertiga|2016|         7.75|         null|     43000|   Diesel|      Manual|    0|            11.625|\n",
      "|      wagon r|2015|         3.25|         5.09|     35500|      CNG|      Manual|    0|             4.875|\n",
      "|          sx4|2010|         2.65|         7.98|     41442|   Petrol|      Manual|    0|3.9749999999999996|\n",
      "+-------------+----+-------------+-------------+----------+---------+------------+-----+------------------+\n",
      "only showing top 20 rows\n",
      "\n"
     ]
    }
   ],
   "source": [
    "#Renaming column\n",
    "new_df = new_df.withColumnRenamed('Car_name','Model_name')\n",
    "new_df.show()"
   ]
  },
  {
   "cell_type": "code",
   "execution_count": 19,
   "id": "fb1b12ed",
   "metadata": {},
   "outputs": [
    {
     "name": "stdout",
     "output_type": "stream",
     "text": [
      "+----------+----+-------------+-------------+----------+---------+------------+-----+------------------+\n",
      "|Model_name|Year|Selling_Price|Present_Price|Kms_Driven|Fuel_Type|Transmission|Owner|   Purchased price|\n",
      "+----------+----+-------------+-------------+----------+---------+------------+-----+------------------+\n",
      "|       sx4|2013|         4.75|         9.54|     43000|   Diesel|      Manual|    0|             7.125|\n",
      "|   wagon r|2011|         2.85|         4.15|      5200|   Petrol|      Manual|    0|             4.275|\n",
      "|     swift|2014|          4.6|         6.87|     42450|   Diesel|      Manual|    0|6.8999999999999995|\n",
      "|      ciaz|2015|         6.75|         8.12|     18796|   Petrol|      Manual|    0|            10.125|\n",
      "|      ciaz|2016|         8.75|         8.89|     20273|   Diesel|      Manual|    0|            13.125|\n",
      "|  alto 800|2017|         2.85|          3.6|      2135|   Petrol|      Manual|    0|             4.275|\n",
      "|    ertiga|2015|          6.1|         7.71|     26000|   Petrol|      Manual|    0| 9.149999999999999|\n",
      "|     dzire|2009|         2.25|         7.21|     77427|   Petrol|      Manual|    0|             3.375|\n",
      "|    ertiga|2016|         7.75|        10.79|     43000|   Diesel|      Manual|    0|            11.625|\n",
      "|    ertiga|2015|         7.25|        10.79|     41678|   Diesel|      Manual|    0|            10.875|\n",
      "|   wagon r|2015|         3.25|         5.09|     35500|      CNG|      Manual|    0|             4.875|\n",
      "|       sx4|2010|         2.65|         7.98|     41442|   Petrol|      Manual|    0|3.9749999999999996|\n",
      "|  alto k10|2016|         2.85|         3.95|     25000|   Petrol|      Manual|    0|             4.275|\n",
      "|     ignis|2017|          4.9|         5.71|      2400|   Petrol|      Manual|    0|7.3500000000000005|\n",
      "|       sx4|2011|          4.4|         8.01|     50000|   Petrol|   Automatic|    0|6.6000000000000005|\n",
      "|  alto k10|2014|          2.5|         3.46|     45280|   Petrol|      Manual|    0|              3.75|\n",
      "|   wagon r|2013|          2.9|         4.41|     56879|   Petrol|      Manual|    0|              4.35|\n",
      "|     swift|2011|          3.0|         4.99|     20000|   Petrol|      Manual|    0|               4.5|\n",
      "|     swift|2013|         4.15|         5.87|     55138|   Petrol|      Manual|    0|6.2250000000000005|\n",
      "|     swift|2017|          6.0|         6.49|     16200|   Petrol|      Manual|    0|               9.0|\n",
      "+----------+----+-------------+-------------+----------+---------+------------+-----+------------------+\n",
      "only showing top 20 rows\n",
      "\n"
     ]
    }
   ],
   "source": [
    "#droping null values.\n",
    "\n",
    "new_df.na.drop().show()"
   ]
  },
  {
   "cell_type": "code",
   "execution_count": 20,
   "id": "1f2fb863",
   "metadata": {},
   "outputs": [
    {
     "name": "stdout",
     "output_type": "stream",
     "text": [
      "+----------+----+-------------+-------------+----------+---------+------------+-----+------------------+\n",
      "|Model_name|Year|Selling_Price|Present_Price|Kms_Driven|Fuel_Type|Transmission|Owner|   Purchased price|\n",
      "+----------+----+-------------+-------------+----------+---------+------------+-----+------------------+\n",
      "|       sx4|2013|         4.75|         9.54|     43000|   Diesel|      Manual|    0|             7.125|\n",
      "|   wagon r|2011|         2.85|         4.15|      5200|   Petrol|      Manual|    0|             4.275|\n",
      "|     swift|2014|          4.6|         6.87|     42450|   Diesel|      Manual|    0|6.8999999999999995|\n",
      "|      ciaz|2015|         6.75|         8.12|     18796|   Petrol|      Manual|    0|            10.125|\n",
      "|      ciaz|2016|         8.75|         8.89|     20273|   Diesel|      Manual|    0|            13.125|\n",
      "|  alto 800|2017|         2.85|          3.6|      2135|   Petrol|      Manual|    0|             4.275|\n",
      "|    ertiga|2015|          6.1|         7.71|     26000|   Petrol|      Manual|    0| 9.149999999999999|\n",
      "|     dzire|2009|         2.25|         7.21|     77427|   Petrol|      Manual|    0|             3.375|\n",
      "|    ertiga|2016|         7.75|        10.79|     43000|   Diesel|      Manual|    0|            11.625|\n",
      "|    ertiga|2015|         7.25|        10.79|     41678|   Diesel|      Manual|    0|            10.875|\n",
      "|   wagon r|2015|         3.25|         5.09|     35500|      CNG|      Manual|    0|             4.875|\n",
      "|       sx4|2010|         2.65|         7.98|     41442|   Petrol|      Manual|    0|3.9749999999999996|\n",
      "|  alto k10|2016|         2.85|         3.95|     25000|   Petrol|      Manual|    0|             4.275|\n",
      "|     ignis|2017|          4.9|         5.71|      2400|   Petrol|      Manual|    0|7.3500000000000005|\n",
      "|       sx4|2011|          4.4|         8.01|     50000|   Petrol|   Automatic|    0|6.6000000000000005|\n",
      "|  alto k10|2014|          2.5|         3.46|     45280|   Petrol|      Manual|    0|              3.75|\n",
      "|   wagon r|2013|          2.9|         4.41|     56879|   Petrol|      Manual|    0|              4.35|\n",
      "|     swift|2011|          3.0|         4.99|     20000|   Petrol|      Manual|    0|               4.5|\n",
      "|     swift|2013|         4.15|         5.87|     55138|   Petrol|      Manual|    0|6.2250000000000005|\n",
      "|     swift|2017|          6.0|         6.49|     16200|   Petrol|      Manual|    0|               9.0|\n",
      "+----------+----+-------------+-------------+----------+---------+------------+-----+------------------+\n",
      "only showing top 20 rows\n",
      "\n"
     ]
    }
   ],
   "source": [
    "#df_pyspark.na.drop(how=\"\", thresh = ,subset= ).show()\n",
    "### any==how\n",
    "new_df.na.drop(how=\"any\").show()"
   ]
  },
  {
   "cell_type": "code",
   "execution_count": 26,
   "id": "cb73a4bb",
   "metadata": {},
   "outputs": [
    {
     "name": "stdout",
     "output_type": "stream",
     "text": [
      "+----------+----+-------------+-------------+----------+---------+------------+-----+------------------+\n",
      "|Model_name|Year|Selling_Price|Present_Price|Kms_Driven|Fuel_Type|Transmission|Owner|   Purchased price|\n",
      "+----------+----+-------------+-------------+----------+---------+------------+-----+------------------+\n",
      "|      ritz|2014|         3.35|         5.59|      null|   Petrol|      Manual|    0|             5.025|\n",
      "|       sx4|2013|         4.75|         9.54|     43000|   Diesel|      Manual|    0|             7.125|\n",
      "|      ciaz|2017|         7.25|         null|      6900|   Petrol|      Manual|    0|            10.875|\n",
      "|   wagon r|2011|         2.85|         4.15|      5200|   Petrol|      Manual|    0|             4.275|\n",
      "|     swift|2014|          4.6|         6.87|     42450|   Diesel|      Manual|    0|6.8999999999999995|\n",
      "|      ciaz|2015|         6.75|         8.12|     18796|   Petrol|      Manual|    0|            10.125|\n",
      "|   s cross|2015|          6.5|         8.61|      null|   Diesel|      Manual|    0|              9.75|\n",
      "|      ciaz|2016|         8.75|         8.89|     20273|   Diesel|      Manual|    0|            13.125|\n",
      "|  alto 800|2017|         2.85|          3.6|      2135|   Petrol|      Manual|    0|             4.275|\n",
      "|      ciaz|2015|         6.85|        10.38|      null|   Diesel|      Manual|    0|10.274999999999999|\n",
      "|    ertiga|2015|          6.1|         7.71|     26000|   Petrol|      Manual|    0| 9.149999999999999|\n",
      "|     dzire|2009|         2.25|         7.21|     77427|   Petrol|      Manual|    0|             3.375|\n",
      "|    ertiga|2016|         7.75|        10.79|     43000|   Diesel|      Manual|    0|            11.625|\n",
      "|    ertiga|2015|         7.25|        10.79|     41678|   Diesel|      Manual|    0|            10.875|\n",
      "|    ertiga|2016|         7.75|         null|     43000|   Diesel|      Manual|    0|            11.625|\n",
      "|   wagon r|2015|         3.25|         5.09|     35500|      CNG|      Manual|    0|             4.875|\n",
      "|       sx4|2010|         2.65|         7.98|     41442|   Petrol|      Manual|    0|3.9749999999999996|\n",
      "|  alto k10|2016|         2.85|         3.95|     25000|   Petrol|      Manual|    0|             4.275|\n",
      "|     ignis|2017|          4.9|         5.71|      2400|   Petrol|      Manual|    0|7.3500000000000005|\n",
      "|       sx4|2011|          4.4|         8.01|     50000|   Petrol|   Automatic|    0|6.6000000000000005|\n",
      "+----------+----+-------------+-------------+----------+---------+------------+-----+------------------+\n",
      "only showing top 20 rows\n",
      "\n"
     ]
    }
   ],
   "source": [
    "##Subset\n",
    "new_df.na.drop(how=\"any\",subset=['Selling_Price']).show()"
   ]
  },
  {
   "cell_type": "code",
   "execution_count": 31,
   "id": "ab6a784c",
   "metadata": {},
   "outputs": [],
   "source": [
    "##threshold\n",
    "df1 =new_df.na.drop()"
   ]
  },
  {
   "cell_type": "code",
   "execution_count": 32,
   "id": "c3b43cfc",
   "metadata": {},
   "outputs": [
    {
     "name": "stdout",
     "output_type": "stream",
     "text": [
      "+----------+----+-------------+-------------+----------+---------+------------+-----+------------------+\n",
      "|Model_name|Year|Selling_Price|Present_Price|Kms_Driven|Fuel_Type|Transmission|Owner|   Purchased price|\n",
      "+----------+----+-------------+-------------+----------+---------+------------+-----+------------------+\n",
      "|       sx4|2013|         4.75|         9.54|     43000|   Diesel|      Manual|    0|             7.125|\n",
      "|   wagon r|2011|         2.85|         4.15|      5200|   Petrol|      Manual|    0|             4.275|\n",
      "|     swift|2014|          4.6|         6.87|     42450|   Diesel|      Manual|    0|6.8999999999999995|\n",
      "|      ciaz|2015|         6.75|         8.12|     18796|   Petrol|      Manual|    0|            10.125|\n",
      "|      ciaz|2016|         8.75|         8.89|     20273|   Diesel|      Manual|    0|            13.125|\n",
      "|  alto 800|2017|         2.85|          3.6|      2135|   Petrol|      Manual|    0|             4.275|\n",
      "|    ertiga|2015|          6.1|         7.71|     26000|   Petrol|      Manual|    0| 9.149999999999999|\n",
      "|     dzire|2009|         2.25|         7.21|     77427|   Petrol|      Manual|    0|             3.375|\n",
      "|    ertiga|2016|         7.75|        10.79|     43000|   Diesel|      Manual|    0|            11.625|\n",
      "|    ertiga|2015|         7.25|        10.79|     41678|   Diesel|      Manual|    0|            10.875|\n",
      "|   wagon r|2015|         3.25|         5.09|     35500|      CNG|      Manual|    0|             4.875|\n",
      "|       sx4|2010|         2.65|         7.98|     41442|   Petrol|      Manual|    0|3.9749999999999996|\n",
      "|  alto k10|2016|         2.85|         3.95|     25000|   Petrol|      Manual|    0|             4.275|\n",
      "|     ignis|2017|          4.9|         5.71|      2400|   Petrol|      Manual|    0|7.3500000000000005|\n",
      "|       sx4|2011|          4.4|         8.01|     50000|   Petrol|   Automatic|    0|6.6000000000000005|\n",
      "|  alto k10|2014|          2.5|         3.46|     45280|   Petrol|      Manual|    0|              3.75|\n",
      "|   wagon r|2013|          2.9|         4.41|     56879|   Petrol|      Manual|    0|              4.35|\n",
      "|     swift|2011|          3.0|         4.99|     20000|   Petrol|      Manual|    0|               4.5|\n",
      "|     swift|2013|         4.15|         5.87|     55138|   Petrol|      Manual|    0|6.2250000000000005|\n",
      "|     swift|2017|          6.0|         6.49|     16200|   Petrol|      Manual|    0|               9.0|\n",
      "+----------+----+-------------+-------------+----------+---------+------------+-----+------------------+\n",
      "only showing top 20 rows\n",
      "\n"
     ]
    }
   ],
   "source": [
    "df1.show()"
   ]
  },
  {
   "cell_type": "code",
   "execution_count": null,
   "id": "7b387a5c",
   "metadata": {},
   "outputs": [],
   "source": []
  },
  {
   "cell_type": "code",
   "execution_count": null,
   "id": "c8039618",
   "metadata": {},
   "outputs": [],
   "source": []
  },
  {
   "cell_type": "markdown",
   "id": "78eddf99",
   "metadata": {},
   "source": [
    "### filter operations"
   ]
  },
  {
   "cell_type": "code",
   "execution_count": 33,
   "id": "e66c8762",
   "metadata": {},
   "outputs": [
    {
     "name": "stdout",
     "output_type": "stream",
     "text": [
      "+--------------------+----+-------------+-------------+----------+---------+------------+-----+------------------+\n",
      "|          Model_name|Year|Selling_Price|Present_Price|Kms_Driven|Fuel_Type|Transmission|Owner|   Purchased price|\n",
      "+--------------------+----+-------------+-------------+----------+---------+------------+-----+------------------+\n",
      "|            alto 800|2017|         2.85|          3.6|      2135|   Petrol|      Manual|    0|             4.275|\n",
      "|               ignis|2017|          4.9|         5.71|      2400|   Petrol|      Manual|    0|7.3500000000000005|\n",
      "|Royal Enfield Thu...|2016|         1.75|          1.9|      3000|   Petrol|      Manual|    0|             2.625|\n",
      "|  UM Renegade Mojave|2017|          1.7|         1.82|      1400|   Petrol|      Manual|    0|              2.55|\n",
      "|   Bajaj Dominar 400|2017|         1.45|          1.6|      1200|   Petrol|      Manual|    0|             2.175|\n",
      "|   Bajaj Avenger 220|2017|          0.9|         0.95|      1300|   Petrol|      Manual|    0|              1.35|\n",
      "|Honda CB Hornet 160R|2017|          0.8|         0.87|      3000|   Petrol|      Manual|    0|1.2000000000000002|\n",
      "|   Bajaj Avenger 220|2016|         0.72|         0.95|       500|   Petrol|      Manual|    0|              1.08|\n",
      "|           Activa 3g|2016|         0.45|         0.54|       500|   Petrol|   Automatic|    0|             0.675|\n",
      "|    Hero Passion Pro|2016|         0.45|         0.55|      1000|   Petrol|      Manual|    0|             0.675|\n",
      "|           Activa 4g|2017|          0.4|         0.51|      1300|   Petrol|   Automatic|    0|0.6000000000000001|\n",
      "|   Suzuki Access 125|2008|         0.25|         0.58|      1900|   Petrol|   Automatic|    0|             0.375|\n",
      "+--------------------+----+-------------+-------------+----------+---------+------------+-----+------------------+\n",
      "\n"
     ]
    }
   ],
   "source": [
    "### car driven less than or equal to 20000\n",
    "df1.filter(\"Kms_Driven<=3000\").show()"
   ]
  },
  {
   "cell_type": "code",
   "execution_count": 34,
   "id": "5ffd695f",
   "metadata": {},
   "outputs": [
    {
     "name": "stdout",
     "output_type": "stream",
     "text": [
      "+--------------------+-------------+\n",
      "|          Model_name|Selling_Price|\n",
      "+--------------------+-------------+\n",
      "|            alto 800|         2.85|\n",
      "|               ignis|          4.9|\n",
      "|Royal Enfield Thu...|         1.75|\n",
      "|  UM Renegade Mojave|          1.7|\n",
      "|   Bajaj Dominar 400|         1.45|\n",
      "|   Bajaj Avenger 220|          0.9|\n",
      "|Honda CB Hornet 160R|          0.8|\n",
      "|   Bajaj Avenger 220|         0.72|\n",
      "|           Activa 3g|         0.45|\n",
      "|    Hero Passion Pro|         0.45|\n",
      "|           Activa 4g|          0.4|\n",
      "|   Suzuki Access 125|         0.25|\n",
      "+--------------------+-------------+\n",
      "\n"
     ]
    }
   ],
   "source": [
    "### with above condition we get specific columns\n",
    "df1.filter(\"Kms_Driven<=3000\").select([\"Model_name\",\"Selling_Price\"]).show()"
   ]
  },
  {
   "cell_type": "code",
   "execution_count": null,
   "id": "1a0fd691",
   "metadata": {},
   "outputs": [],
   "source": []
  }
 ],
 "metadata": {
  "kernelspec": {
   "display_name": "Python 3",
   "language": "python",
   "name": "python3"
  },
  "language_info": {
   "codemirror_mode": {
    "name": "ipython",
    "version": 3
   },
   "file_extension": ".py",
   "mimetype": "text/x-python",
   "name": "python",
   "nbconvert_exporter": "python",
   "pygments_lexer": "ipython3",
   "version": "3.8.8"
  }
 },
 "nbformat": 4,
 "nbformat_minor": 5
}
